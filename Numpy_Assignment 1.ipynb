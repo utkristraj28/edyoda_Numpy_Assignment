{
 "cells": [
  {
   "cell_type": "code",
   "execution_count": 10,
   "metadata": {},
   "outputs": [],
   "source": [
    "import numpy as np\n"
   ]
  },
  {
   "cell_type": "code",
   "execution_count": 11,
   "metadata": {},
   "outputs": [
    {
     "name": "stdout",
     "output_type": "stream",
     "text": [
      "Null vetor of 10: [0. 0. 0. 0. 0. 0. 0. 0. 0. 0.]\n",
      "adding 1 at 5th position: [0. 0. 0. 0. 0. 1. 0. 0. 0. 0.]\n"
     ]
    }
   ],
   "source": [
    "#1. Create a null vector of size 10 but the fifth value which is 1.\n",
    "\n",
    "arr = np.zeros(10)\n",
    "print(f\"Null vetor of 10: {arr}\")\n",
    "\n",
    "arr[5] = 1\n",
    "print(f\"adding 1 at 5th position: {arr}\")"
   ]
  },
  {
   "cell_type": "code",
   "execution_count": 16,
   "metadata": {},
   "outputs": [
    {
     "name": "stdout",
     "output_type": "stream",
     "text": [
      "[22 27 21 25 43 39 34 46 29 45]\n"
     ]
    }
   ],
   "source": [
    "#2. Create a vector with values ranging from 10 to 49.\n",
    "\n",
    "arr1 = np.random.randint(10,50,10)\n",
    "print(arr1)\n"
   ]
  },
  {
   "cell_type": "code",
   "execution_count": 18,
   "metadata": {},
   "outputs": [
    {
     "name": "stdout",
     "output_type": "stream",
     "text": [
      "[[6 2 2]\n",
      " [1 3 3]\n",
      " [3 4 5]]\n"
     ]
    }
   ],
   "source": [
    "#3. Create a 3x3 matrix with values ranging from 0 to 8\n",
    "arr2 = np.random.randint(0,9,[3,3])\n",
    "print(arr2)\n"
   ]
  },
  {
   "cell_type": "code",
   "execution_count": 31,
   "metadata": {},
   "outputs": [
    {
     "name": "stdout",
     "output_type": "stream",
     "text": [
      "[1 2 0 0 4 0]\n"
     ]
    },
    {
     "data": {
      "text/plain": [
       "(array([0, 1, 4], dtype=int64),)"
      ]
     },
     "execution_count": 31,
     "metadata": {},
     "output_type": "execute_result"
    }
   ],
   "source": [
    "#4. Find indices of non-zero elements from [1,2,0,0,4,0]\n",
    "arr3 = np.array([1,2,0,0,4,0])\n",
    "print(arr3)\n",
    "\n",
    "np.nonzero(arr3)"
   ]
  },
  {
   "cell_type": "code",
   "execution_count": 21,
   "metadata": {},
   "outputs": [
    {
     "name": "stdout",
     "output_type": "stream",
     "text": [
      "[[11 17  6 23 11 15  9 13  8  4]\n",
      " [ 8 21  0 14  5 12  8 17 19 15]\n",
      " [ 8 19 19  2 12  8 19 10 12 11]\n",
      " [23  0  9 23  9 15  8  4 19  3]\n",
      " [ 7 10 20 24  7  6 14  9 20 18]\n",
      " [23  7  7 15 12  0 20 10 12 17]\n",
      " [24 11 19 15  1 24  4 19 18  3]\n",
      " [10 19  7 20  8 22 19 23 14 15]\n",
      " [22  5 22  9 13  2 18 15 11 10]\n",
      " [17  3  3 19 20 15 14  5  5 24]]\n",
      "Maximum value in the array is 24\n",
      "Minimum value in the array is 0\n"
     ]
    }
   ],
   "source": [
    "#5. Create a 10x10 array with random values and find the minimum and maximum values.\n",
    "\n",
    "np.random.seed(101)\n",
    "arr4 = np.random.randint(0,25,[10,10])\n",
    "print(arr4)\n",
    "\n",
    "#max and min vlaues\n",
    "max_val = arr4.max()\n",
    "min_val = arr4.min()\n",
    "print(f\"Maximum value in the vector is {max_val}\")\n",
    "print(f\"Minimum value in the vector is {min_val}\")"
   ]
  },
  {
   "cell_type": "code",
   "execution_count": 29,
   "metadata": {},
   "outputs": [
    {
     "name": "stdout",
     "output_type": "stream",
     "text": [
      "[18  7  3  2 12 25 23 20  5 21  9  2 22  5 21 24 25 14 10 11  1  9 11 20\n",
      " 18  3 14 15 16 17]\n",
      "Mean of vector is 13.433\n"
     ]
    }
   ],
   "source": [
    "#6. Create a random vector of size 30 and find the mean value.\n",
    "arr5 = np.random.randint(0,26,30)\n",
    "print(arr5)\n",
    "\n",
    "#mean\n",
    "mean_val = arr5.mean()\n",
    "print(f\"Mean of vector is {round(mean_val,3)}\")"
   ]
  },
  {
   "cell_type": "code",
   "execution_count": null,
   "metadata": {},
   "outputs": [],
   "source": []
  }
 ],
 "metadata": {
  "kernelspec": {
   "display_name": "Python 3",
   "language": "python",
   "name": "python3"
  },
  "language_info": {
   "codemirror_mode": {
    "name": "ipython",
    "version": 3
   },
   "file_extension": ".py",
   "mimetype": "text/x-python",
   "name": "python",
   "nbconvert_exporter": "python",
   "pygments_lexer": "ipython3",
   "version": "3.7.4"
  }
 },
 "nbformat": 4,
 "nbformat_minor": 4
}
